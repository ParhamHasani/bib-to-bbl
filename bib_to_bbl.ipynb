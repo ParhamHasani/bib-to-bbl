{
 "cells": [
  {
   "cell_type": "code",
   "execution_count": 133,
   "id": "c902334d-6d45-4ee1-beb0-4f67c69a49d0",
   "metadata": {},
   "outputs": [],
   "source": [
    "from io import StringIO"
   ]
  },
  {
   "cell_type": "code",
   "execution_count": null,
   "id": "cdba8f96-a832-4755-837d-fe13877857de",
   "metadata": {},
   "outputs": [
    {
     "ename": "SyntaxError",
     "evalue": "unexpected character after line continuation character (830015572.py, line 1)",
     "output_type": "error",
     "traceback": [
      "\u001b[0;36m  File \u001b[0;32m\"/tmp/ipykernel_39646/830015572.py\"\u001b[0;36m, line \u001b[0;32m1\u001b[0m\n\u001b[0;31m    \\begin{LTRbibitems}\u001b[0m\n\u001b[0m     ^\u001b[0m\n\u001b[0;31mSyntaxError\u001b[0m\u001b[0;31m:\u001b[0m unexpected character after line continuation character\n"
     ]
    }
   ],
   "source": [
    "\\begin{LTRbibitems}\n",
    "\\resetlatinfont\n",
    "\\bibitem[{اقدم  و  همکاران(2019)Aghdam, Rezaei~Tabar,  and\n",
    "  Pezeshk}]{aghdam2019some}\n",
    "Aghdam, R., Rezaei~Tabar, V.,  and  Pezeshk, H. (2019), \\enquote{Some node\n",
    "  ordering methods for the k2 algorithm,} \\textit{Computational Intelligence},\n",
    "  35, 42--58."
   ]
  },
  {
   "cell_type": "code",
   "execution_count": 135,
   "id": "8172cb13-4cdc-4a7a-ac30-8669fd378680",
   "metadata": {},
   "outputs": [],
   "source": [
    "string = \"\"\"@book{Eskandari96,\n",
    "\tauthor={Eskandari, Farzad and Rezaei Tabar, Vahid and Naghizadeh, Sima},\n",
    "\tTitle={risk assessment and decision analysis in bayesian networks},\n",
    "\tyear={1396},\n",
    "\tpublisher={ Publications of Allameh Tabatabai University},\n",
    "\tauthorfa={اسکندری and همکاران}\n",
    "\"\"\""
   ]
  },
  {
   "cell_type": "code",
   "execution_count": 136,
   "id": "8de13a78-0389-4db6-a137-87793dbe60f3",
   "metadata": {},
   "outputs": [],
   "source": [
    "my_string = string.replace(\"@book{\",'cite\\':\\'')\n",
    "my_string_No_space = my_string.replace(\"\t\",\"\")\n",
    "my_string_cot =  my_string_No_space.replace(\"={\",\"\\':\\'\")\n",
    "my_string_cot2 =  my_string_cot.replace(\"}\",\"\\'\")"
   ]
  },
  {
   "cell_type": "code",
   "execution_count": 62,
   "id": "39b094cf-a142-4613-9f09-2ef07f5d1a5d",
   "metadata": {},
   "outputs": [],
   "source": [
    "f = open(\"my_string_cot2.txt\", \"a\")\n"
   ]
  },
  {
   "cell_type": "code",
   "execution_count": 64,
   "id": "ce5a7645-78a6-42e4-bd73-964db44507c8",
   "metadata": {},
   "outputs": [
    {
     "name": "stdout",
     "output_type": "stream",
     "text": [
      "'cite':'Eskandari96',\n",
      "\n",
      "'author':'Eskandari, Farzad and Rezaei Tabar, Vahid and Naghizadeh, Sima',\n",
      "\n",
      "'Title':'risk assessment and decision analysis in bayesian networks',\n",
      "\n",
      "'year':'1396',\n",
      "\n",
      "'publisher':' Publications of Allameh Tabatabai University',\n",
      "\n",
      "'authorfa':'اسکندری and همکاران'\n",
      "\n"
     ]
    }
   ],
   "source": [
    "i = 0 \n",
    "sio = StringIO(my_string_cot2)\n",
    "for sline in sio.readlines():\n",
    "    if i != 0:\n",
    "        i+=1\n",
    "        s = '\\''+sline\n",
    "        f.write(s)\n",
    "        print(s)\n",
    "    else:\n",
    "        s = '\\''+sline[:-2]+'\\','+'\\n'\n",
    "        f.write(s)\n",
    "        print(s)\n",
    "        i+=1\n",
    "f.close()\n"
   ]
  },
  {
   "cell_type": "code",
   "execution_count": 76,
   "id": "9ef83c44-39a4-4f64-b1b9-04bd0d58b86f",
   "metadata": {},
   "outputs": [],
   "source": [
    "dic = {'cite':'Eskandari96',\n",
    "\n",
    "'author':'Eskandari, Farzad and Rezaei Tabar, Vahid and Naghizadeh, Sima',\n",
    "\n",
    "'Title':'risk assessment and decision analysis in bayesian networks',\n",
    "\n",
    "'year':'1396',\n",
    "\n",
    "'publisher':' Publications of Allameh Tabatabai University',\n",
    "\n",
    "'authorfa':'اسکندری and همکاران'}"
   ]
  },
  {
   "cell_type": "code",
   "execution_count": 147,
   "id": "c28d54a7-748c-4b29-b1a7-00108d239ff3",
   "metadata": {},
   "outputs": [
    {
     "data": {
      "text/plain": [
       "'1396'"
      ]
     },
     "execution_count": 147,
     "metadata": {},
     "output_type": "execute_result"
    }
   ],
   "source": []
  },
  {
   "cell_type": "code",
   "execution_count": 168,
   "id": "bd0a2e8d-40d3-4ed9-a484-d066d6f3e281",
   "metadata": {
    "tags": []
   },
   "outputs": [],
   "source": [
    "bbl = f\"\"\"\n",
    "{chr(92)}begin{{LTRbibitems}}\n",
    "{chr(92)}resetlatinfont\n",
    "{chr(92)}bibitem[{{نام  و  همکاران({dic['year']})\n",
    "  }}]{{{dic['cite']}}}\n",
    "Aghdam, R., Rezaei~Tabar, V.,  and  Pezeshk, H. ({dic['year']}), {chr(92)}enquote{{{dic['Title']},}} {chr(92)}textit{{{dic['publisher']}}}.\n",
    "{chr(92)}end{{LTRbibitems}}\n",
    "\"\"\""
   ]
  },
  {
   "cell_type": "code",
   "execution_count": 169,
   "id": "90c93dfe-9529-4655-bfd5-838ddd4e65e1",
   "metadata": {},
   "outputs": [
    {
     "name": "stdout",
     "output_type": "stream",
     "text": [
      "\n",
      "\\begin{LTRbibitems}\n",
      "\\resetlatinfont\n",
      "\\bibitem[{نام  و  همکاران(1396)\n",
      "  }]{Eskandari96}\n",
      "Aghdam, R., Rezaei~Tabar, V.,  and  Pezeshk, H. (1396), \\enquote{risk assessment and decision analysis in bayesian networks,} \\textit{ Publications of Allameh Tabatabai University}.\n",
      "\\end{LTRbibitems}\n",
      "\n"
     ]
    }
   ],
   "source": [
    "print(bbl)"
   ]
  }
 ],
 "metadata": {
  "kernelspec": {
   "display_name": "Python 3 (ipykernel)",
   "language": "python",
   "name": "python3"
  },
  "language_info": {
   "codemirror_mode": {
    "name": "ipython",
    "version": 3
   },
   "file_extension": ".py",
   "mimetype": "text/x-python",
   "name": "python",
   "nbconvert_exporter": "python",
   "pygments_lexer": "ipython3",
   "version": "3.9.15"
  }
 },
 "nbformat": 4,
 "nbformat_minor": 5
}
