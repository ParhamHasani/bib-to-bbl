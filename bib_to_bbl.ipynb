{
 "cells": [
  {
   "cell_type": "code",
   "execution_count": 1,
   "id": "c902334d-6d45-4ee1-beb0-4f67c69a49d0",
   "metadata": {},
   "outputs": [],
   "source": [
    "from io import StringIO"
   ]
  },
  {
   "cell_type": "code",
   "execution_count": 37,
   "id": "8172cb13-4cdc-4a7a-ac30-8669fd378680",
   "metadata": {},
   "outputs": [],
   "source": [
    "string = \"\"\"@article{ abellan2017improving,\n",
    "  title={ Improving the Naive Bayes classifier via a quick variable selection method using maximum of entropy} ,\n",
    "  author={ Abell, Joaqu and Castellano, Javier G} ,\n",
    "  journal={ Entropy} ,\n",
    "  volume={ 19} ,\n",
    "  number={ 6} ,\n",
    "  pages={ 247} ,\n",
    "  year={ 2017} ,\n",
    "  publisher={ MDPI} \n",
    "} \n",
    "\"\"\""
   ]
  },
  {
   "cell_type": "code",
   "execution_count": 38,
   "id": "8de13a78-0389-4db6-a137-87793dbe60f3",
   "metadata": {},
   "outputs": [],
   "source": [
    "if string[1:5] == 'b':\n",
    "    my_string = string.replace(\"@book{\",'cite\\':\\'')\n",
    "elif string[1:8] == 'article':\n",
    "    my_string = string.replace(\"@article{\",'cite\\':\\'')\n",
    "elif string[1:13] == 'incollection':\n",
    "    my_string = string.replace(\"@incollection{\",'cite\\':\\'')\n",
    "elif string[1:14] == 'inproceedings':\n",
    "    my_string = string.replace(\"@inproceedings{\",'cite\\':\\'')\n",
    "else:\n",
    "    print('Error')\n",
    "\n",
    "my_string_No_space = my_string.replace(\"  \",\"\")\n",
    "my_string_cot =  my_string_No_space.replace(\"={\",\"\\':\\'\")\n",
    "my_string_cot2 =  my_string_cot.replace(\"}\",\"\\'\")"
   ]
  },
  {
   "cell_type": "code",
   "execution_count": 39,
   "id": "39b094cf-a142-4613-9f09-2ef07f5d1a5d",
   "metadata": {},
   "outputs": [],
   "source": [
    "f = open(\"my_string_cot2.txt\", \"a\")\n"
   ]
  },
  {
   "cell_type": "code",
   "execution_count": 40,
   "id": "ce5a7645-78a6-42e4-bd73-964db44507c8",
   "metadata": {},
   "outputs": [
    {
     "name": "stdout",
     "output_type": "stream",
     "text": [
      "'cite':' abellan2017improving',\n",
      "\n",
      "'title':' Improving the Naive Bayes classifier via a quick variable selection method using maximum of entropy' ,\n",
      "\n",
      "'author':' Abell, Joaqu and Castellano, Javier G' ,\n",
      "\n",
      "'journal':' Entropy' ,\n",
      "\n",
      "'volume':' 19' ,\n",
      "\n",
      "'number':' 6' ,\n",
      "\n",
      "'pages':' 247' ,\n",
      "\n",
      "'year':' 2017' ,\n",
      "\n",
      "'publisher':' MDPI' \n",
      "\n",
      "'' \n",
      "\n"
     ]
    }
   ],
   "source": [
    "i = 0 \n",
    "sio = StringIO(my_string_cot2)\n",
    "for sline in sio.readlines():\n",
    "    if i != 0:\n",
    "        i+=1\n",
    "        s = '\\''+sline\n",
    "        f.write(s)\n",
    "        print(s)\n",
    "    else:\n",
    "        s = '\\''+sline[:-2]+'\\','+'\\n'\n",
    "        f.write(s)\n",
    "        print(s)\n",
    "        i+=1\n",
    "f.close()\n"
   ]
  },
  {
   "cell_type": "code",
   "execution_count": 41,
   "id": "9ef83c44-39a4-4f64-b1b9-04bd0d58b86f",
   "metadata": {},
   "outputs": [],
   "source": [
    "dic = {'cite':' abellan2017improving',\n",
    "\n",
    "'title':' Improving the Naive Bayes classifier via a quick variable selection method using maximum of entropy' ,\n",
    "\n",
    "'author':' Abell, Joaqu and Castellano, Javier G' ,\n",
    "\n",
    "'journal':' Entropy' ,\n",
    "\n",
    "'volume':' 19' ,\n",
    "\n",
    "'number':' 6' ,\n",
    "\n",
    "'pages':' 247' ,\n",
    "\n",
    "'year':' 2017' ,\n",
    "\n",
    "'publisher':' MDPI'}"
   ]
  },
  {
   "cell_type": "code",
   "execution_count": 43,
   "id": "f76cb8eb-c780-4b49-b0c8-12a085b3c041",
   "metadata": {},
   "outputs": [],
   "source": [
    "fa_name = 'آبل'"
   ]
  },
  {
   "cell_type": "code",
   "execution_count": 44,
   "id": "bd0a2e8d-40d3-4ed9-a484-d066d6f3e281",
   "metadata": {
    "tags": []
   },
   "outputs": [],
   "source": [
    "bbl = f\"\"\"\n",
    "{chr(92)}begin{{LTRbibitems}}\n",
    "{chr(92)}resetlatinfont\n",
    "{chr(92)}bibitem[{{{fa_name}  و  همکاران({dic['year']})\n",
    "  }}]{{{dic['cite']}}}\n",
    "Aghdam, R., Rezaei~Tabar, V.,  and  Pezeshk, H. ({dic['year']}), {chr(92)}enquote{{{dic['title']},}} {chr(92)}textit{{{dic['publisher']}}}.\n",
    "{chr(92)}end{{LTRbibitems}}\n",
    "\"\"\""
   ]
  },
  {
   "cell_type": "code",
   "execution_count": 45,
   "id": "90c93dfe-9529-4655-bfd5-838ddd4e65e1",
   "metadata": {},
   "outputs": [
    {
     "name": "stdout",
     "output_type": "stream",
     "text": [
      "\n",
      "\\begin{LTRbibitems}\n",
      "\\resetlatinfont\n",
      "\\bibitem[{آبل  و  همکاران( 2017)\n",
      "  }]{ abellan2017improving}\n",
      "Aghdam, R., Rezaei~Tabar, V.,  and  Pezeshk, H. ( 2017), \\enquote{ Improving the Naive Bayes classifier via a quick variable selection method using maximum of entropy,} \\textit{ MDPI}.\n",
      "\\end{LTRbibitems}\n",
      "\n"
     ]
    }
   ],
   "source": [
    "print(bbl)"
   ]
  },
  {
   "cell_type": "code",
   "execution_count": null,
   "id": "3b4b2469-c953-44d0-a20c-ed451d2eae14",
   "metadata": {},
   "outputs": [],
   "source": []
  }
 ],
 "metadata": {
  "kernelspec": {
   "display_name": "Python 3 (ipykernel)",
   "language": "python",
   "name": "python3"
  },
  "language_info": {
   "codemirror_mode": {
    "name": "ipython",
    "version": 3
   },
   "file_extension": ".py",
   "mimetype": "text/x-python",
   "name": "python",
   "nbconvert_exporter": "python",
   "pygments_lexer": "ipython3",
   "version": "3.9.15"
  }
 },
 "nbformat": 4,
 "nbformat_minor": 5
}
